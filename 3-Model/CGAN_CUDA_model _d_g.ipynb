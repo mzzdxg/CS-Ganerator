{
 "cells": [
  {
   "cell_type": "code",
   "execution_count": 1,
   "id": "74287a1a",
   "metadata": {
    "execution": {
     "iopub.execute_input": "2023-11-06T10:07:38.786056Z",
     "iopub.status.busy": "2023-11-06T10:07:38.785485Z",
     "iopub.status.idle": "2023-11-06T10:07:39.960793Z",
     "shell.execute_reply": "2023-11-06T10:07:39.960055Z",
     "shell.execute_reply.started": "2023-11-06T10:07:38.785949Z"
    },
    "tags": []
   },
   "outputs": [],
   "source": [
    "%matplotlib inline\n",
    "import torch\n",
    "import numpy as np\n",
    "import pandas as pd\n",
    "\n",
    "import torch.nn as nn\n",
    "from torch import autograd\n",
    "from torch.autograd import Variable\n",
    "# from tensorboardX import SummaryWriter\n",
    "import matplotlib.pyplot as plt\n",
    "import copy\n",
    "\n",
    "# 用于翻转图像\n",
    "from scipy import misc, ndimage"
   ]
  },
  {
   "cell_type": "code",
   "execution_count": 2,
   "id": "2ff3f156",
   "metadata": {
    "execution": {
     "iopub.execute_input": "2023-11-06T10:07:39.962227Z",
     "iopub.status.busy": "2023-11-06T10:07:39.961878Z",
     "iopub.status.idle": "2023-11-06T10:07:40.036147Z",
     "shell.execute_reply": "2023-11-06T10:07:40.035420Z",
     "shell.execute_reply.started": "2023-11-06T10:07:39.962206Z"
    },
    "tags": []
   },
   "outputs": [
    {
     "name": "stdout",
     "output_type": "stream",
     "text": [
      "using cuda: NVIDIA GeForce RTX 3090\n"
     ]
    },
    {
     "data": {
      "text/plain": [
       "device(type='cuda')"
      ]
     },
     "execution_count": 2,
     "metadata": {},
     "output_type": "execute_result"
    }
   ],
   "source": [
    "# 检查cuda是否可用\n",
    "if torch.cuda.is_available():\n",
    "    torch.set_default_tensor_type(torch.cuda.FloatTensor)\n",
    "    print('using cuda:',torch.cuda.get_device_name(0))\n",
    "    pass\n",
    "\n",
    "device = torch.device('cuda' if torch.cuda.is_available() else 'cpu')\n",
    "\n",
    "device"
   ]
  },
  {
   "cell_type": "code",
   "execution_count": 3,
   "id": "abe19c5a",
   "metadata": {
    "execution": {
     "iopub.execute_input": "2023-11-06T10:07:40.037416Z",
     "iopub.status.busy": "2023-11-06T10:07:40.037011Z",
     "iopub.status.idle": "2023-11-06T10:07:40.041101Z",
     "shell.execute_reply": "2023-11-06T10:07:40.040579Z",
     "shell.execute_reply.started": "2023-11-06T10:07:40.037388Z"
    },
    "tags": []
   },
   "outputs": [],
   "source": [
    "all_labels=['autumn', 'beach', 'champaign', 'city', 'classical', 'CNU','desert', 'dreamlike', 'flowers', 'food', \n",
    "         'forest', 'fresh','fruit', 'garden', 'lake', 'mountains', 'nature', 'night','oil', 'pixiv','scenery', \n",
    "         'sea', 'sky', 'spring','stars', 'summer', 'technology', 'universe', 'watercolor','winter','dangjian']"
   ]
  },
  {
   "cell_type": "code",
   "execution_count": 4,
   "id": "ab3c2b91",
   "metadata": {
    "execution": {
     "iopub.execute_input": "2023-11-06T10:07:40.043184Z",
     "iopub.status.busy": "2023-11-06T10:07:40.042642Z",
     "iopub.status.idle": "2023-11-06T10:07:40.047004Z",
     "shell.execute_reply": "2023-11-06T10:07:40.046585Z",
     "shell.execute_reply.started": "2023-11-06T10:07:40.043158Z"
    },
    "tags": []
   },
   "outputs": [],
   "source": [
    "# 需要更改的变量们\n",
    "\n",
    "k = 12\n",
    "# 配色方案数据文件\n",
    "dataset_path = './training_data.xlsx'\n",
    "\n",
    "template_path = './template_data.xlsx'\n",
    "\n",
    "# 权重大小\n",
    "w1 = 0.6\n",
    "w2 = 0.4\n",
    "\n",
    "# 批大小\n",
    "batch_size = 100\n",
    "\n",
    "# 循环次数\n",
    "num_epochs = 10\n",
    "\n",
    "n_critic = 2    # G每训练一次，D的训练次数\n",
    "display_step = 50     # 每训练完多少个batch展示一次效果\n",
    "\n",
    "# 过程生成方案的图片保存路径文件夹\n",
    "process_schemes_path = './process_imgs/'"
   ]
  },
  {
   "cell_type": "code",
   "execution_count": 5,
   "id": "4cfb948f",
   "metadata": {
    "execution": {
     "iopub.execute_input": "2023-11-06T10:07:40.048193Z",
     "iopub.status.busy": "2023-11-06T10:07:40.047702Z",
     "iopub.status.idle": "2023-11-06T10:07:40.056761Z",
     "shell.execute_reply": "2023-11-06T10:07:40.056286Z",
     "shell.execute_reply.started": "2023-11-06T10:07:40.048167Z"
    },
    "tags": []
   },
   "outputs": [],
   "source": [
    "# 自定义数据集类\n",
    "\n",
    "class MyDataset(torch.utils.data.Dataset):   #继承Dataset\n",
    "    def __init__(self,file_path):\n",
    "        \n",
    "        self.data_df = pd.read_excel(file_path)\n",
    "        \n",
    "        self.device = device\n",
    "        \n",
    "        # 颜色数据\n",
    "        self.color_data = self.data_df[['color1-R','color1-G','color1-B',\n",
    "                                        'color2-R','color2-G','color2-B',\n",
    "                                        'color3-R','color3-G','color3-B',\n",
    "                                        'color4-R','color4-G','color4-B',\n",
    "                                        'color5-R','color5-G','color5-B',\n",
    "                                        'color6-R','color6-G','color6-B',\n",
    "                                        'color7-R','color7-G','color7-B',\n",
    "                                        'color8-R','color8-G','color8-B',\n",
    "                                        'color9-R','color9-G','color9-B',\n",
    "                                        'color10-R','color10-G','color10-B',\n",
    "                                        'color11-R','color11-G','color11-B',\n",
    "                                        'color12-R','color12-G','color12-B'\n",
    "                                       ]]\n",
    "        \n",
    "    def __getitem__(self,index):\n",
    "        label = self.data_df.iloc[index,1]\n",
    "        # label独热编码\n",
    "        target = torch.zeros((31)).to(self.device)\n",
    "        label_index = all_labels.index(label)\n",
    "        target[label_index] = 1.0\n",
    "        \n",
    "        # color data , normalised from 0-255 to -1~1\n",
    "        color_values = torch.FloatTensor((self.color_data.iloc[index,:].values/255)*2-1).to(self.device)\n",
    "        \n",
    "        # return label, color_values tensor and target tensor\n",
    "        return label, color_values, target\n",
    "    \n",
    "    def __len__(self):\n",
    "        return len(self.data_df)\n",
    "    \n",
    "    def show_colors(self,index):\n",
    "        # 提取颜色RGB值\n",
    "        colors_rgb = np.array(self.color_data.iloc[index,:]).reshape(-1,3)   # 每一行表示一个颜色\n",
    "        img = []\n",
    "        result_width_per_center = 15\n",
    "        result_height = 20\n",
    "        n_channels = 3\n",
    "        for color_index in range(k):\n",
    "            img.append(\n",
    "                np.full((result_width_per_center * result_height, n_channels), colors_rgb[color_index,:],\n",
    "                        dtype=int))\n",
    "        img = np.array(img)\n",
    "        img = img.reshape((result_width_per_center * k, result_height , n_channels))\n",
    "        img = img.astype(np.uint8)\n",
    "        \n",
    "        # 翻转图像\n",
    "        img_rote = ndimage.rotate(img,90)\n",
    "        \n",
    "        print('label:',self.data_df.iloc[index,1])\n",
    "        plt.axis('off')\n",
    "        plt.imshow(img_rote, interpolation='none')"
   ]
  },
  {
   "cell_type": "code",
   "execution_count": 6,
   "id": "68ca5cce",
   "metadata": {
    "execution": {
     "iopub.execute_input": "2023-11-06T10:07:40.058112Z",
     "iopub.status.busy": "2023-11-06T10:07:40.057587Z",
     "iopub.status.idle": "2023-11-06T10:07:53.540244Z",
     "shell.execute_reply": "2023-11-06T10:07:53.539185Z",
     "shell.execute_reply.started": "2023-11-06T10:07:40.058084Z"
    },
    "tags": []
   },
   "outputs": [],
   "source": [
    "# 加载数据\n",
    "data_dataset = MyDataset(dataset_path)\n",
    "\n",
    "# data_loader = torch.utils.data.DataLoader(dataset = data_dataset, batch_size=batch_size, shuffle=True,\n",
    "#                                          num_workers = 0) #多线程加载数\n",
    "data_loader = torch.utils.data.DataLoader(dataset = data_dataset, batch_size=batch_size, shuffle=True, \n",
    "                                          num_workers = 0)"
   ]
  },
  {
   "cell_type": "code",
   "execution_count": 7,
   "id": "cffd94fd",
   "metadata": {
    "execution": {
     "iopub.execute_input": "2023-11-06T10:07:53.541492Z",
     "iopub.status.busy": "2023-11-06T10:07:53.541304Z",
     "iopub.status.idle": "2023-11-06T10:07:53.547006Z",
     "shell.execute_reply": "2023-11-06T10:07:53.546511Z",
     "shell.execute_reply.started": "2023-11-06T10:07:53.541469Z"
    },
    "tags": []
   },
   "outputs": [],
   "source": [
    "# 定义判别器\n",
    "\n",
    "class Discriminator(nn.Module):\n",
    "    def __init__(self):\n",
    "        super().__init__()\n",
    "        \n",
    "        self.model = nn.Sequential(\n",
    "            nn.Linear(3*k+31, 512),\n",
    "            nn.LeakyReLU(0.05,inplace=True),\n",
    "            # nn.Dropout(0.2),\n",
    "            nn.Linear(512, 256),\n",
    "            nn.LeakyReLU(0.05,inplace=True),\n",
    "            # nn.Dropout(0.2),\n",
    "            nn.Linear(256, 128),\n",
    "            nn.LeakyReLU(0.05,inplace=True),\n",
    "            # nn.Dropout(0.2),\n",
    "            nn.Linear(128, 1),\n",
    "            nn.Sigmoid()\n",
    "        )\n",
    "    \n",
    "    def forward(self, input_data, labels):\n",
    "        input_data = torch.cat([input_data, labels],1)  # 1表示按列合并（左右合并）\n",
    "        output = self.model(input_data)\n",
    "        return output.squeeze()"
   ]
  },
  {
   "cell_type": "code",
   "execution_count": 8,
   "id": "8e401325",
   "metadata": {
    "execution": {
     "iopub.execute_input": "2023-11-06T10:07:53.548590Z",
     "iopub.status.busy": "2023-11-06T10:07:53.548392Z",
     "iopub.status.idle": "2023-11-06T10:07:53.557260Z",
     "shell.execute_reply": "2023-11-06T10:07:53.556777Z",
     "shell.execute_reply.started": "2023-11-06T10:07:53.548574Z"
    },
    "tags": []
   },
   "outputs": [],
   "source": [
    "# 定义生成器\n",
    "\n",
    "class Generator(nn.Module):\n",
    "    def __init__(self):\n",
    "        super().__init__()\n",
    "        \n",
    "        self.model = nn.Sequential(\n",
    "            nn.Linear(100+31, 256),\n",
    "            nn.LeakyReLU(0.02,inplace=True),\n",
    "            nn.BatchNorm1d(256),\n",
    "            nn.Linear(256, 512),\n",
    "            nn.LeakyReLU(0.02,inplace=True),\n",
    "            nn.BatchNorm1d(512),\n",
    "            nn.Linear(512, 128),\n",
    "            nn.LeakyReLU(0.02,inplace=True),\n",
    "            nn.BatchNorm1d(128),\n",
    "            nn.Linear(128, 3*k),\n",
    "            nn.Tanh()\n",
    "        )\n",
    "    \n",
    "    def forward(self, z, labels):\n",
    "        x = torch.cat([z, labels],1)\n",
    "        output = self.model(x)\n",
    "        return output"
   ]
  },
  {
   "cell_type": "code",
   "execution_count": 9,
   "id": "ca081a70",
   "metadata": {
    "execution": {
     "iopub.execute_input": "2023-11-06T10:07:53.558056Z",
     "iopub.status.busy": "2023-11-06T10:07:53.557888Z",
     "iopub.status.idle": "2023-11-06T10:07:56.017629Z",
     "shell.execute_reply": "2023-11-06T10:07:56.016909Z",
     "shell.execute_reply.started": "2023-11-06T10:07:53.558041Z"
    },
    "tags": []
   },
   "outputs": [],
   "source": [
    "import os\n",
    "os.environ[\"CUDA_VISIBLE_DEVICES\"] = '1'\n",
    "# 训练\n",
    "generator = Generator().cuda()\n",
    "discriminator = Discriminator().cuda()\n",
    "\n",
    "loss_fn = nn.BCELoss()\n",
    "d_optimizer = torch.optim.Adam(discriminator.parameters(), lr=1e-3)\n",
    "g_optimizer = torch.optim.Adam(generator.parameters(), lr=1e-4)"
   ]
  },
  {
   "cell_type": "code",
   "execution_count": 10,
   "id": "253777db",
   "metadata": {
    "execution": {
     "iopub.execute_input": "2023-11-06T10:07:56.018736Z",
     "iopub.status.busy": "2023-11-06T10:07:56.018571Z",
     "iopub.status.idle": "2023-11-06T10:07:56.021865Z",
     "shell.execute_reply": "2023-11-06T10:07:56.021116Z",
     "shell.execute_reply.started": "2023-11-06T10:07:56.018720Z"
    },
    "tags": []
   },
   "outputs": [],
   "source": [
    "# 实例化summarywriter，并指明日志存放路径。支持自动创建\n",
    "# writer = SummaryWriter(log_dir)"
   ]
  },
  {
   "cell_type": "code",
   "execution_count": 11,
   "id": "62c94aaf",
   "metadata": {
    "execution": {
     "iopub.execute_input": "2023-11-06T10:07:56.022790Z",
     "iopub.status.busy": "2023-11-06T10:07:56.022579Z",
     "iopub.status.idle": "2023-11-06T10:07:56.026319Z",
     "shell.execute_reply": "2023-11-06T10:07:56.025591Z",
     "shell.execute_reply.started": "2023-11-06T10:07:56.022765Z"
    },
    "tags": []
   },
   "outputs": [],
   "source": [
    "# 随机独热编码\n",
    "def one_hot(batch_size):\n",
    "    code = torch.zeros(batch_size,31)\n",
    "    for i in range(batch_size):\n",
    "        code[i][np.random.randint(0, 31)] = 1.0     # [0,31)之间随机挑选一个整数作为索引\n",
    "    return code"
   ]
  },
  {
   "cell_type": "code",
   "execution_count": 12,
   "id": "8784523c",
   "metadata": {
    "execution": {
     "iopub.execute_input": "2023-11-06T10:07:56.027160Z",
     "iopub.status.busy": "2023-11-06T10:07:56.026999Z",
     "iopub.status.idle": "2023-11-06T10:07:56.031173Z",
     "shell.execute_reply": "2023-11-06T10:07:56.030485Z",
     "shell.execute_reply.started": "2023-11-06T10:07:56.027146Z"
    },
    "tags": []
   },
   "outputs": [],
   "source": [
    "# 过程测试独热编码\n",
    "# 每种主题生成5个方案\n",
    "def test_one_hots():\n",
    "    code = torch.zeros(31*5,31)\n",
    "    for i in range(0,31):\n",
    "        code[i*5][i] = 1.0\n",
    "        code[i*5+1][i] = 1.0\n",
    "        code[i*5+2][i] = 1.0\n",
    "        code[i*5+3][i] = 1.0\n",
    "        code[i*5+4][i] = 1.0\n",
    "\n",
    "    return code"
   ]
  },
  {
   "cell_type": "code",
   "execution_count": 13,
   "id": "702b8786",
   "metadata": {
    "execution": {
     "iopub.execute_input": "2023-11-06T10:07:56.032086Z",
     "iopub.status.busy": "2023-11-06T10:07:56.031893Z",
     "iopub.status.idle": "2023-11-06T10:07:56.318911Z",
     "shell.execute_reply": "2023-11-06T10:07:56.318316Z",
     "shell.execute_reply.started": "2023-11-06T10:07:56.032071Z"
    },
    "tags": []
   },
   "outputs": [],
   "source": [
    "# 模板方案\n",
    "template_schemes = pd.read_excel(template_path)\n",
    "\n",
    "# template_list里面有31个tensor，每个tensor存储的是每个主题的25个模板方案\n",
    "template_list = []\n",
    "for theme in all_labels:\n",
    "    data_one_theme = template_schemes[template_schemes['label']==theme]\n",
    "    tensor_one_theme = torch.FloatTensor((data_one_theme.iloc[:,2:].values/255)*2-1).cuda()\n",
    "    template_list.append(tensor_one_theme)\n",
    "\n",
    "def tanh(x):\n",
    "    return torch.tanh(x)\n",
    "    \n",
    "def template_distance(fake_labels,fake_images):\n",
    "    min_list = []\n",
    "    for i in range(31):\n",
    "        # 提取该主题的模板tensor\n",
    "        theme_template = template_list[i]\n",
    "        # 提取该主题的生成图像\n",
    "        true_index = torch.where(fake_labels[:,i] == 1.0)# 是一个元组，记录了第几行fake_images是该主题的\n",
    "        true_index_list = true_index[0].cpu().numpy().tolist()\n",
    "        if len(true_index_list)!=0:\n",
    "            theme_generate_scheme = fake_images[true_index_list]\n",
    "            # 计算欧氏距离\n",
    "            dist = torch.cdist(theme_generate_scheme,theme_template.contiguous(),p=2)\n",
    "            # dist每一行代表每个生成方案与25个模板的25个距离，取最小值\n",
    "            for j in range(len(true_index_list)):\n",
    "                min_list.append(dist[j].min())\n",
    "            \n",
    "#     print(len(min_list))\n",
    "    # 一个batch100个生成方案的最小距离平均值作为distance_loss\n",
    "    distance_loss = sum(min_list)/len(min_list)\n",
    "    return distance_loss"
   ]
  },
  {
   "cell_type": "code",
   "execution_count": 14,
   "id": "43b327b4",
   "metadata": {
    "execution": {
     "iopub.execute_input": "2023-11-06T10:07:56.319723Z",
     "iopub.status.busy": "2023-11-06T10:07:56.319562Z",
     "iopub.status.idle": "2023-11-06T10:07:56.324341Z",
     "shell.execute_reply": "2023-11-06T10:07:56.323832Z",
     "shell.execute_reply.started": "2023-11-06T10:07:56.319708Z"
    },
    "tags": []
   },
   "outputs": [],
   "source": [
    "def generator_train_step(batch_size, discriminator, generator, g_optimizer, loss_fn):\n",
    "    \n",
    "    g_optimizer.zero_grad()\n",
    "    \n",
    "    z = Variable(torch.rand(batch_size, 100).squeeze()).cuda()  # （行数，列数）\n",
    "    fake_labels = Variable(one_hot(batch_size)).cuda()\n",
    "#     print(fake_labels)\n",
    "#     print(fake_labels.size())\n",
    "    \n",
    "    fake_images = generator(z, fake_labels)\n",
    "#     print(fake_images)\n",
    "#     print(fake_images.size())\n",
    "    \n",
    "    g_loss_distance = template_distance(fake_labels,fake_images)\n",
    "    \n",
    "    validity = discriminator(fake_images, fake_labels)\n",
    "#     print('validity_g:',validity)\n",
    "    \n",
    "    g_loss_discriminator = loss_fn(validity, Variable(torch.ones(batch_size)).cuda())\n",
    "#     print('target_g:',Variable(torch.ones(batch_size)))\n",
    "    # g_loss = w1*g_loss_discriminator + w2*g_loss_distance\n",
    "    g_loss = g_loss_discriminator + g_loss_distance\n",
    "    \n",
    "    g_loss.backward()\n",
    "    g_optimizer.step()\n",
    "    \n",
    "    return g_loss.item()"
   ]
  },
  {
   "cell_type": "code",
   "execution_count": 15,
   "id": "c394c0fd",
   "metadata": {
    "execution": {
     "iopub.execute_input": "2023-11-06T10:07:56.325216Z",
     "iopub.status.busy": "2023-11-06T10:07:56.325024Z",
     "iopub.status.idle": "2023-11-06T10:07:56.329847Z",
     "shell.execute_reply": "2023-11-06T10:07:56.329355Z",
     "shell.execute_reply.started": "2023-11-06T10:07:56.325201Z"
    },
    "tags": []
   },
   "outputs": [],
   "source": [
    "def discriminator_train_step(batch_size, discriminator, generator, d_optimizer, criterion, real_images, labels):\n",
    "    \n",
    "    d_optimizer.zero_grad()\n",
    "\n",
    "    # train with real images\n",
    "    real_validity = discriminator(real_images, labels)\n",
    "#     print('real_validity_d:',real_validity)\n",
    "    real_loss_discriminator = criterion(real_validity, Variable(torch.ones(batch_size)).cuda())\n",
    "#     print('real_target_d:',Variable(torch.ones(batch_size)))\n",
    "\n",
    "    real_loss_distance = template_distance(labels,real_images)\n",
    "    \n",
    "    real_loss =  w1*real_loss_discriminator + w2*real_loss_distance\n",
    "    \n",
    "    # train with fake images\n",
    "    z = Variable(torch.rand(batch_size, 100).squeeze()).cuda()\n",
    "    fake_labels = Variable(one_hot(batch_size)).cuda()\n",
    "    \n",
    "    fake_images = generator(z, fake_labels)\n",
    "    \n",
    "    fake_validity = discriminator(fake_images, fake_labels)\n",
    "#     print('fake_validity_d:',fake_validity)\n",
    "    fake_loss = criterion(fake_validity, Variable(torch.zeros(batch_size)).cuda())\n",
    "#     print('fake_target_d:',Variable(torch.zeros(batch_size)))\n",
    "    \n",
    "    d_loss = real_loss + fake_loss\n",
    "    d_loss.backward()\n",
    "    d_optimizer.step()\n",
    "    return d_loss.item()"
   ]
  },
  {
   "cell_type": "code",
   "execution_count": 16,
   "id": "adb4b265",
   "metadata": {
    "execution": {
     "iopub.execute_input": "2023-11-06T10:07:56.330641Z",
     "iopub.status.busy": "2023-11-06T10:07:56.330487Z",
     "iopub.status.idle": "2023-11-06T10:17:37.899152Z",
     "shell.execute_reply": "2023-11-06T10:17:37.898561Z",
     "shell.execute_reply.started": "2023-11-06T10:07:56.330626Z"
    },
    "tags": []
   },
   "outputs": [
    {
     "name": "stdout",
     "output_type": "stream",
     "text": [
      "Starting epoch 0... Done!\n",
      "Starting epoch 1... Done!\n",
      "Starting epoch 2... Done!\n",
      "Starting epoch 3... Done!\n",
      "Starting epoch 4... Done!\n",
      "Starting epoch 5... Done!\n",
      "Starting epoch 6... Done!\n",
      "Starting epoch 7... Done!\n",
      "Starting epoch 8... Done!\n",
      "Starting epoch 9... Done!\n",
      "CPU times: user 9min 41s, sys: 593 ms, total: 9min 41s\n",
      "Wall time: 9min 41s\n"
     ]
    }
   ],
   "source": [
    "%%time\n",
    "\n",
    "D_loss_step = []                          # 记录训练过程中判别器loss变化\n",
    "G_loss_step = []                          # 记录训练过程中生成器loss变化\n",
    "Step_list = []\n",
    "progress_schemes = []\n",
    "\n",
    "D_loss_all = []  \n",
    "G_loss_all = []  \n",
    "\n",
    "D_loss_epoch = []  \n",
    "G_loss_epoch = [] \n",
    "\n",
    "for epoch in range(num_epochs):\n",
    "    print('Starting epoch {}...'.format(epoch), end=' ')\n",
    "    # i表示第i-1个batch（i为索引）\n",
    "    for (index, data) in enumerate(data_loader):\n",
    "        \n",
    "        # step标示当下累计加载了多少个batch\n",
    "        step = epoch * len(data_loader) + index + 1\n",
    "        # print('batch:',index)\n",
    "        \n",
    "        images = data[1]\n",
    "        labels = data[2]\n",
    "        \n",
    "        real_images = Variable(images).cuda()\n",
    "        labels = Variable(labels).cuda()\n",
    "        \n",
    "        # model.train():在训练开始之前加上这一句，作用是启用batch normalization和dropout\n",
    "        generator.train()\n",
    "        \n",
    "        d_loss = discriminator_train_step(len(real_images), discriminator,\n",
    "                                              generator, d_optimizer, loss_fn,\n",
    "                                              real_images, labels)\n",
    "        # print('dloss:','\\n',d_loss)\n",
    "        \n",
    "        g_loss = 0\n",
    "        for _ in range(n_critic):\n",
    "            g_loss = generator_train_step(batch_size, discriminator, generator, g_optimizer, loss_fn)\n",
    "        # print('gloss:','\\n',g_loss)\n",
    "        \n",
    "        # 记录损失值\n",
    "        # writer.add_scalars('scalars', {'g_loss': g_loss, 'd_loss': (d_loss / n_critic)}, step)\n",
    "        D_loss_all.append(d_loss)\n",
    "        G_loss_all.append(g_loss)\n",
    "        \n",
    "        if (step == 1) or (step % display_step == 0):\n",
    "            # model.eval（）作用是不启用batch normalization和dropout\n",
    "            generator.eval()\n",
    "            \n",
    "            D_loss_step.append(d_loss)\n",
    "            G_loss_step.append(g_loss)\n",
    "            Step_list.append(step)\n",
    "            \n",
    "            # 测试模型输出\n",
    "            z = Variable(torch.rand(31*5, 100).squeeze()).cuda()\n",
    "            labels = Variable(test_one_hots()).cuda()\n",
    "            \n",
    "            sample_schemes = generator(z, labels).unsqueeze(1)\n",
    "            \n",
    "            progress_schemes.append(sample_schemes)\n",
    "            \n",
    "    \n",
    "    D_loss_epoch.append(d_loss)\n",
    "    G_loss_epoch.append(g_loss)\n",
    "    \n",
    "    print('Done!')\n",
    "    \n",
    "# print('D_loss: ',D_loss_step)\n",
    "# print('G_loss: ',G_loss_step)\n",
    "\n",
    "# print('progress_schemes: ',progress_schemes)"
   ]
  },
  {
   "cell_type": "code",
   "execution_count": 17,
   "id": "772e68c5",
   "metadata": {
    "execution": {
     "iopub.execute_input": "2023-11-06T10:17:47.240989Z",
     "iopub.status.busy": "2023-11-06T10:17:47.240718Z",
     "iopub.status.idle": "2023-11-06T10:17:47.378349Z",
     "shell.execute_reply": "2023-11-06T10:17:47.377824Z",
     "shell.execute_reply.started": "2023-11-06T10:17:47.240970Z"
    },
    "tags": []
   },
   "outputs": [
    {
     "data": {
      "text/plain": [
       "<matplotlib.legend.Legend at 0x7fd183a31d30>"
      ]
     },
     "execution_count": 17,
     "metadata": {},
     "output_type": "execute_result"
    },
    {
     "data": {
      "image/png": "[encoded data removed]",
      "text/plain": [
       "<Figure size 640x480 with 1 Axes>"
      ]
     },
     "metadata": {},
     "output_type": "display_data"
    }
   ],
   "source": [
    "plt.plot(D_loss_all,label = 'D_loss')\n",
    "plt.plot(G_loss_all,label = 'G_loss')\n",
    "plt.legend()"
   ]
  },
  {
   "cell_type": "code",
   "execution_count": 18,
   "id": "69aed86c",
   "metadata": {
    "execution": {
     "iopub.execute_input": "2023-11-06T10:17:50.445888Z",
     "iopub.status.busy": "2023-11-06T10:17:50.445611Z",
     "iopub.status.idle": "2023-11-06T10:17:50.547618Z",
     "shell.execute_reply": "2023-11-06T10:17:50.547185Z",
     "shell.execute_reply.started": "2023-11-06T10:17:50.445870Z"
    },
    "tags": []
   },
   "outputs": [
    {
     "data": {
      "text/plain": [
       "<matplotlib.legend.Legend at 0x7fd183883520>"
      ]
     },
     "execution_count": 18,
     "metadata": {},
     "output_type": "execute_result"
    },
    {
     "data": {
      "image/png": "[encoded data removed]",
      "text/plain": [
       "<Figure size 640x480 with 1 Axes>"
      ]
     },
     "metadata": {},
     "output_type": "display_data"
    }
   ],
   "source": [
    "plt.plot(D_loss_step,label = 'D_loss')\n",
    "plt.plot(G_loss_step,label = 'G_loss')\n",
    "plt.legend()"
   ]
  },
  {
   "cell_type": "code",
   "execution_count": 19,
   "id": "1e6c62bf",
   "metadata": {
    "execution": {
     "iopub.execute_input": "2023-11-06T10:17:53.017784Z",
     "iopub.status.busy": "2023-11-06T10:17:53.017594Z",
     "iopub.status.idle": "2023-11-06T10:17:53.152162Z",
     "shell.execute_reply": "2023-11-06T10:17:53.151750Z",
     "shell.execute_reply.started": "2023-11-06T10:17:53.017768Z"
    },
    "tags": []
   },
   "outputs": [
    {
     "data": {
      "text/plain": [
       "<matplotlib.legend.Legend at 0x7fd1838ada60>"
      ]
     },
     "execution_count": 19,
     "metadata": {},
     "output_type": "execute_result"
    },
    {
     "data": {
      "image/png": "[encoded data removed]",
      "text/plain": [
       "<Figure size 640x480 with 1 Axes>"
      ]
     },
     "metadata": {},
     "output_type": "display_data"
    }
   ],
   "source": [
    "plt.plot(D_loss_epoch,label = 'D_loss')\n",
    "plt.plot(G_loss_epoch,label = 'G_loss')\n",
    "plt.legend()"
   ]
  },
  {
   "cell_type": "code",
   "execution_count": 20,
   "id": "3a7c0a9b",
   "metadata": {
    "execution": {
     "iopub.execute_input": "2023-11-06T10:17:53.850444Z",
     "iopub.status.busy": "2023-11-06T10:17:53.850138Z",
     "iopub.status.idle": "2023-11-06T10:17:53.852681Z",
     "shell.execute_reply": "2023-11-06T10:17:53.852257Z",
     "shell.execute_reply.started": "2023-11-06T10:17:53.850416Z"
    },
    "tags": []
   },
   "outputs": [],
   "source": [
    "# # 过程方案输出\n",
    "# progress_schemes"
   ]
  },
  {
   "cell_type": "code",
   "execution_count": 21,
   "id": "55653c69",
   "metadata": {
    "execution": {
     "iopub.execute_input": "2023-11-06T10:17:54.640223Z",
     "iopub.status.busy": "2023-11-06T10:17:54.639853Z",
     "iopub.status.idle": "2023-11-06T10:17:54.645685Z",
     "shell.execute_reply": "2023-11-06T10:17:54.645221Z",
     "shell.execute_reply.started": "2023-11-06T10:17:54.640190Z"
    },
    "tags": []
   },
   "outputs": [
    {
     "data": {
      "text/plain": [
       "94"
      ]
     },
     "execution_count": 21,
     "metadata": {},
     "output_type": "execute_result"
    }
   ],
   "source": [
    "len(progress_schemes)"
   ]
  },
  {
   "cell_type": "code",
   "execution_count": 22,
   "id": "8de22c15",
   "metadata": {
    "execution": {
     "iopub.execute_input": "2023-11-06T10:17:58.778888Z",
     "iopub.status.busy": "2023-11-06T10:17:58.778448Z",
     "iopub.status.idle": "2023-11-06T10:17:58.790743Z",
     "shell.execute_reply": "2023-11-06T10:17:58.789847Z",
     "shell.execute_reply.started": "2023-11-06T10:17:58.778853Z"
    },
    "tags": []
   },
   "outputs": [],
   "source": [
    "# 这个函数生成单张图像\n",
    "def create_image(scheme_rgb):\n",
    "    img = []\n",
    "    result_width_per_center = 40\n",
    "    result_height = 60\n",
    "    n_channels = 3\n",
    "\n",
    "    for color_index in range(k):\n",
    "        img.append(\n",
    "            np.full((result_width_per_center * result_height, n_channels), scheme_rgb[color_index,:],\n",
    "                    dtype=int))\n",
    "    img = np.array(img)\n",
    "    img = img.reshape((result_width_per_center * k, result_height , n_channels))\n",
    "    img = img.astype(np.uint8)\n",
    "\n",
    "    # 翻转图像\n",
    "    img_rote = ndimage.rotate(img,90)\n",
    "\n",
    "    return img_rote\n",
    "\n",
    "# 这个函数用于显示并保存过程方案\n",
    "# 传进来的schemes_list是每一次记录的5*31个方案列表\n",
    "\n",
    "def process_schemes_show(schemes_list,process_step):\n",
    "    \n",
    "    theme_index = 0\n",
    "    for scheme_index in range(1,5*31+1):\n",
    "        # 提取颜色RGB值\n",
    "        scheme_rgb = np.array(schemes_list[scheme_index-1]).reshape(-1,3)   # 每一行表示一个颜色\n",
    "        # label\n",
    "        label = all_labels[theme_index]\n",
    "        \n",
    "        if scheme_index % 5 == 0:\n",
    "            theme_index += 1\n",
    "        \n",
    "        plt.subplot(31,5,scheme_index)\n",
    "        plt.imshow(create_image(scheme_rgb))\n",
    "        plt.axis('off')\n",
    "        plt.title(label,fontsize = 5)\n",
    "        \n",
    "#     plt.show()\n",
    "    plt.savefig(process_schemes_path+str(process_step)+'_batches.jpg')\n",
    "    \n",
    "    print(str(process_step)+'_batches.jpg  处理完成')\n",
    "    \n",
    "    plt.clf()"
   ]
  },
  {
   "cell_type": "code",
   "execution_count": 56,
   "id": "66cc4919-8ea1-477b-8c3e-5b070e04b3b1",
   "metadata": {
    "execution": {
     "iopub.execute_input": "2023-11-06T10:19:52.250882Z",
     "iopub.status.busy": "2023-11-06T10:19:52.250687Z",
     "iopub.status.idle": "2023-11-06T10:19:52.394977Z",
     "shell.execute_reply": "2023-11-06T10:19:52.394502Z",
     "shell.execute_reply.started": "2023-11-06T10:19:52.250865Z"
    },
    "tags": []
   },
   "outputs": [
    {
     "data": {
      "image/png": "[encoded data removed]",
      "text/plain": [
       "<Figure size 600x600 with 5 Axes>"
      ]
     },
     "metadata": {},
     "output_type": "display_data"
    },
    {
     "data": {
      "text/plain": [
       "<Figure size 640x480 with 0 Axes>"
      ]
     },
     "metadata": {},
     "output_type": "display_data"
    }
   ],
   "source": [
    "# 单个方案生成测试\n",
    "test_theme = 'beach'\n",
    "\n",
    "n = 5   # 生成5个方案出来\n",
    "\n",
    "theme_index = all_labels.index(test_theme)\n",
    "\n",
    "label_code = torch.zeros(n,31).cuda()\n",
    "for i in range(n):\n",
    "    label_code[i][theme_index] = 1.0\n",
    "\n",
    "trandom_z = Variable(torch.rand(n, 100)).cuda()\n",
    "\n",
    "output_schemes = generator(trandom_z, label_code)\n",
    "\n",
    "def test_schemes_show(schemes_list,n):\n",
    "    \n",
    "    for scheme_index in range(1,n+1):\n",
    "        # 提取颜色RGB值\n",
    "        scheme_rgb = np.array(schemes_list[scheme_index-1]).reshape(-1,3)   # 每一行表示一个颜色\n",
    "        \n",
    "        plt.subplot(n,1,scheme_index)\n",
    "        plt.imshow(create_image(scheme_rgb))\n",
    "        plt.axis('off')\n",
    "        \n",
    "    plt.show()\n",
    "    plt.clf()\n",
    "    \n",
    "import warnings\n",
    "warnings.filterwarnings('ignore')\n",
    "    \n",
    "# 创建画布\n",
    "plt.figure(figsize=(3,3),dpi=200)\n",
    "\n",
    "# 设置子图行列间距\n",
    "plt.tight_layout()\n",
    "    \n",
    "# -0~1放缩至0~1，再放缩至0~255\n",
    "output_schemes_rgb = np.around(((output_schemes.detach()+1)/2*255).cpu().numpy() , 0)\n",
    "\n",
    "test_schemes_show(output_schemes_rgb,n)"
   ]
  },
  {
   "cell_type": "code",
   "execution_count": 57,
   "id": "1cb657a8",
   "metadata": {
    "execution": {
     "iopub.execute_input": "2023-11-06T10:20:38.450316Z",
     "iopub.status.busy": "2023-11-06T10:20:38.450040Z",
     "iopub.status.idle": "2023-11-06T10:31:42.495154Z",
     "shell.execute_reply": "2023-11-06T10:31:42.494626Z",
     "shell.execute_reply.started": "2023-11-06T10:20:38.450299Z"
    },
    "tags": []
   },
   "outputs": [
    {
     "name": "stdout",
     "output_type": "stream",
     "text": [
      "1_batches.jpg  处理完成\n",
      "50_batches.jpg  处理完成\n",
      "100_batches.jpg  处理完成\n",
      "150_batches.jpg  处理完成\n",
      "200_batches.jpg  处理完成\n",
      "250_batches.jpg  处理完成\n",
      "300_batches.jpg  处理完成\n",
      "350_batches.jpg  处理完成\n",
      "400_batches.jpg  处理完成\n",
      "450_batches.jpg  处理完成\n",
      "500_batches.jpg  处理完成\n",
      "550_batches.jpg  处理完成\n",
      "600_batches.jpg  处理完成\n",
      "650_batches.jpg  处理完成\n",
      "700_batches.jpg  处理完成\n",
      "750_batches.jpg  处理完成\n",
      "800_batches.jpg  处理完成\n",
      "850_batches.jpg  处理完成\n",
      "900_batches.jpg  处理完成\n",
      "950_batches.jpg  处理完成\n",
      "1000_batches.jpg  处理完成\n",
      "1050_batches.jpg  处理完成\n",
      "1100_batches.jpg  处理完成\n",
      "1150_batches.jpg  处理完成\n",
      "1200_batches.jpg  处理完成\n",
      "1250_batches.jpg  处理完成\n",
      "1300_batches.jpg  处理完成\n",
      "1350_batches.jpg  处理完成\n",
      "1400_batches.jpg  处理完成\n",
      "1450_batches.jpg  处理完成\n",
      "1500_batches.jpg  处理完成\n",
      "1550_batches.jpg  处理完成\n",
      "1600_batches.jpg  处理完成\n",
      "1650_batches.jpg  处理完成\n",
      "1700_batches.jpg  处理完成\n",
      "1750_batches.jpg  处理完成\n",
      "1800_batches.jpg  处理完成\n",
      "1850_batches.jpg  处理完成\n",
      "1900_batches.jpg  处理完成\n",
      "1950_batches.jpg  处理完成\n",
      "2000_batches.jpg  处理完成\n",
      "2050_batches.jpg  处理完成\n",
      "2100_batches.jpg  处理完成\n",
      "2150_batches.jpg  处理完成\n",
      "2200_batches.jpg  处理完成\n",
      "2250_batches.jpg  处理完成\n",
      "2300_batches.jpg  处理完成\n",
      "2350_batches.jpg  处理完成\n",
      "2400_batches.jpg  处理完成\n",
      "2450_batches.jpg  处理完成\n",
      "2500_batches.jpg  处理完成\n",
      "2550_batches.jpg  处理完成\n",
      "2600_batches.jpg  处理完成\n",
      "2650_batches.jpg  处理完成\n",
      "2700_batches.jpg  处理完成\n",
      "2750_batches.jpg  处理完成\n",
      "2800_batches.jpg  处理完成\n",
      "2850_batches.jpg  处理完成\n",
      "2900_batches.jpg  处理完成\n",
      "2950_batches.jpg  处理完成\n",
      "3000_batches.jpg  处理完成\n",
      "3050_batches.jpg  处理完成\n",
      "3100_batches.jpg  处理完成\n",
      "3150_batches.jpg  处理完成\n",
      "3200_batches.jpg  处理完成\n",
      "3250_batches.jpg  处理完成\n",
      "3300_batches.jpg  处理完成\n",
      "3350_batches.jpg  处理完成\n",
      "3400_batches.jpg  处理完成\n",
      "3450_batches.jpg  处理完成\n",
      "3500_batches.jpg  处理完成\n",
      "3550_batches.jpg  处理完成\n",
      "3600_batches.jpg  处理完成\n",
      "3650_batches.jpg  处理完成\n",
      "3700_batches.jpg  处理完成\n",
      "3750_batches.jpg  处理完成\n",
      "3800_batches.jpg  处理完成\n",
      "3850_batches.jpg  处理完成\n",
      "3900_batches.jpg  处理完成\n",
      "3950_batches.jpg  处理完成\n",
      "4000_batches.jpg  处理完成\n",
      "4050_batches.jpg  处理完成\n",
      "4100_batches.jpg  处理完成\n",
      "4150_batches.jpg  处理完成\n",
      "4200_batches.jpg  处理完成\n",
      "4250_batches.jpg  处理完成\n",
      "4300_batches.jpg  处理完成\n",
      "4350_batches.jpg  处理完成\n",
      "4400_batches.jpg  处理完成\n",
      "4450_batches.jpg  处理完成\n",
      "4500_batches.jpg  处理完成\n",
      "4550_batches.jpg  处理完成\n",
      "4600_batches.jpg  处理完成\n",
      "4650_batches.jpg  处理完成\n"
     ]
    },
    {
     "data": {
      "text/plain": [
       "<Figure size 1000x3000 with 0 Axes>"
      ]
     },
     "metadata": {},
     "output_type": "display_data"
    }
   ],
   "source": [
    "# progress_schemes里面是若干个tensor，每一个tensor大小为[155, 1, 21]，记录的是每一次记录下的5*31个配色方案，\n",
    "# 每个配色方案由（3*k）个变量表示\n",
    "\n",
    "# 创建画布\n",
    "plt.figure(figsize=(5,15),dpi=200,clear = True)\n",
    "# 设置子图行列间距\n",
    "plt.tight_layout()\n",
    "\n",
    "# 遍历每一次记录的150个方案\n",
    "for index in range(len(progress_schemes)):\n",
    "    \n",
    "    progress_schemes_tensor_ = torch.squeeze(progress_schemes[index])  # 降维为[155, 21]\n",
    "    \n",
    "    # process_step表示的是此次记录时已经训练了多少个batch\n",
    "    process_step = Step_list[index]\n",
    "    \n",
    "    # -0~1放缩至0~1，再放缩至0~255\n",
    "    schemes_list_rgb = np.around(((progress_schemes_tensor_.detach()+1)/2*255).cpu().numpy() , 0)\n",
    "\n",
    "    process_schemes_show(schemes_list_rgb,process_step)"
   ]
  },
  {
   "cell_type": "code",
   "execution_count": 60,
   "id": "273704bb",
   "metadata": {
    "execution": {
     "iopub.execute_input": "2023-11-06T10:31:42.502479Z",
     "iopub.status.busy": "2023-11-06T10:31:42.502293Z",
     "iopub.status.idle": "2023-11-06T10:31:42.511614Z",
     "shell.execute_reply": "2023-11-06T10:31:42.511246Z",
     "shell.execute_reply.started": "2023-11-06T10:31:42.502464Z"
    },
    "tags": []
   },
   "outputs": [],
   "source": [
    "# 存储生成器\n",
    "torch.save(generator, './generator_model.pt')\n"
   ]
  },
  {
   "cell_type": "code",
   "execution_count": null,
   "id": "342622ff-ff6b-4408-a955-6a9307b02bf8",
   "metadata": {},
   "outputs": [],
   "source": []
  },
  {
   "cell_type": "code",
   "execution_count": null,
   "id": "8251aec4-969c-4040-9bff-27bdcce90e89",
   "metadata": {},
   "outputs": [],
   "source": []
  }
 ],
 "metadata": {
  "kernelspec": {
   "display_name": "Python 3 (ipykernel)",
   "language": "python",
   "name": "python3"
  },
  "language_info": {
   "codemirror_mode": {
    "name": "ipython",
    "version": 3
   },
   "file_extension": ".py",
   "mimetype": "text/x-python",
   "name": "python",
   "nbconvert_exporter": "python",
   "pygments_lexer": "ipython3",
   "version": "3.9.13"
  }
 },
 "nbformat": 4,
 "nbformat_minor": 5
}
